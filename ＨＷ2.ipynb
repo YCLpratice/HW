{
  "cells": [
    {
      "cell_type": "markdown",
      "id": "4023bfc6-22aa-4545-8c19-48b4ae101a3b",
      "metadata": {
        "id": "4023bfc6-22aa-4545-8c19-48b4ae101a3b"
      },
      "source": [
        "# 長庚大學 資工系/人工智慧學程  樣形識別/深度學習 課程使用之教材及示範程式 Ch02"
      ]
    },
    {
      "cell_type": "code",
      "execution_count": null,
      "id": "fe262b16-1ad9-4057-8abf-188f9f0ed3dc",
      "metadata": {
        "id": "fe262b16-1ad9-4057-8abf-188f9f0ed3dc"
      },
      "outputs": [],
      "source": [
        "import numpy as np\n",
        "import tensorflow as tf\n",
        "import tensorflow.keras as keras"
      ]
    },
    {
      "cell_type": "code",
      "execution_count": null,
      "id": "c5f9aa07-85d8-47f3-a8a9-edd2264ea3fb",
      "metadata": {
        "id": "c5f9aa07-85d8-47f3-a8a9-edd2264ea3fb",
        "outputId": "7fd9860a-deb1-4cb4-9734-4b4215468625",
        "colab": {
          "base_uri": "https://localhost:8080/"
        }
      },
      "outputs": [
        {
          "output_type": "stream",
          "name": "stdout",
          "text": [
            "Downloading data from https://storage.googleapis.com/tensorflow/tf-keras-datasets/mnist.npz\n",
            "11493376/11490434 [==============================] - 0s 0us/step\n",
            "11501568/11490434 [==============================] - 0s 0us/step\n"
          ]
        }
      ],
      "source": [
        "(xr,yr), (xt,yt)= keras.datasets.mnist.load_data()"
      ]
    },
    {
      "cell_type": "code",
      "execution_count": null,
      "id": "8c5713fc-00c8-4659-8831-21ba3832f17e",
      "metadata": {
        "id": "8c5713fc-00c8-4659-8831-21ba3832f17e",
        "outputId": "99aee029-7998-469f-9686-4a76f370f568",
        "colab": {
          "base_uri": "https://localhost:8080/"
        }
      },
      "outputs": [
        {
          "output_type": "execute_result",
          "data": {
            "text/plain": [
              "((60000, 28, 28), (60000,), (10000, 28, 28), (10000,))"
            ]
          },
          "metadata": {},
          "execution_count": 3
        }
      ],
      "source": [
        "xr.shape, yr.shape, xt.shape, yt.shape"
      ]
    },
    {
      "cell_type": "code",
      "execution_count": null,
      "id": "66533075-600c-49d1-9a29-4f3e5d8d7b03",
      "metadata": {
        "id": "66533075-600c-49d1-9a29-4f3e5d8d7b03",
        "outputId": "92657bbe-c345-4619-c87d-f90e4487de8c",
        "colab": {
          "base_uri": "https://localhost:8080/"
        }
      },
      "outputs": [
        {
          "output_type": "stream",
          "name": "stdout",
          "text": [
            "  0  0  0  0  0  0  0  0  0  0  0  0  0  0  0  0  0  0  0  0  0  0  0  0  0  0  0  0\n",
            "  0  0  0  0  0  0  0  0  0  0  0  0  0  0  0  0  0  0  0  0  0  0  0  0  0  0  0  0\n",
            "  0  0  0  0  0  0  0  0  0  0  0  0  0  0  0  0  0  0  0  0  0  0  0  0  0  0  0  0\n",
            "  0  0  0  0  0  0  0  0  0  0  0  0  0  0  0  0  0  0  0  0  0  0  0  0  0  0  0  0\n",
            "  0  0  0  0  0  0  0  0  0  0  0  0  0  0  0  0  0  0  0  0  0  0  0  0  0  0  0  0\n",
            "  0  0  0  0  0  0  0  0  0  0  0  0  0  0  0  0  0  0  0  0  0  0  0  0  0  0  0  0\n",
            "  0  0  0  0  0  0  0  0  0  0  0  0  0 25 91174254254255254156 27  0  0  0  0  0  0\n",
            "  0  0  0  0  0  0  0  0  0  0  0  9 84212254254224216216219254103  0  0  0  0  0  0\n",
            "  0  0  0  0  0  0  0  0  0  0 39172254250161 56 13  0  0 58254176  0  0  0  0  0  0\n",
            "  0  0  0  0  0  0  0  0  0 69229254217 78  0  0  0  0  0176254107  0  0  0  0  0  0\n",
            "  0  0  0  0  0  0  0  0 44233254131 10  0  0  0  0  0  0207206  4  0  0  0  0  0  0\n",
            "  0  0  0  0  0  0  0  0183254184  2  0  0  0  0  0  0  0165238127  0  0  0  0  0  0\n",
            "  0  0  0  0  0  0  0 85248247 78  0  0  0  0  0  0  0  0144254197  0  0  0  0  0  0\n",
            "  0  0  0  0  0  0  3188254123  0  0  0  0  0  0  0  0102252254 86  0  0  0  0  0  0\n",
            "  0  0  0  0  0  0135254168  7  0  0  0  0  0  0  0  9189254181  2  0  0  0  0  0  0\n",
            "  0  0  0  0  0  0198254 78  0  0  0  0  0  0  0  4177254254169  0  0  0  0  0  0  0\n",
            "  0  0  0  0  0 24234254 19  0  0  0  0  0  0 10178254255254145  0  0  0  0  0  0  0\n",
            "  0  0  0  0  0 19225254124 21  0  0  5 38132220252153244251 64  0  0  0  0  0  0  0\n",
            "  0  0  0  0  0  0121250254229198198204254254245 96 35243196  0  0  0  0  0  0  0  0\n",
            "  0  0  0  0  0  0  0 85220254254254189143 85 10  0169254140  0  0  0  0  0  0  0  0\n",
            "  0  0  0  0  0  0  0  0 11 18 18 18  3  0  0  0  6216254 53  0  0  0  0  0  0  0  0\n",
            "  0  0  0  0  0  0  0  0  0  0  0  0  0  0  0  0 87254215  9  0  0  0  0  0  0  0  0\n",
            "  0  0  0  0  0  0  0  0  0  0  0  0  0  0  0  0170254140  0  0  0  0  0  0  0  0  0\n",
            "  0  0  0  0  0  0  0  0  0  0  0  0  0  0  0  0198254113  0  0  0  0  0  0  0  0  0\n",
            "  0  0  0  0  0  0  0  0  0  0  0  0  0  0  0  0198254113  0  0  0  0  0  0  0  0  0\n",
            "  0  0  0  0  0  0  0  0  0  0  0  0  0  0  0  0198254113  0  0  0  0  0  0  0  0  0\n",
            "  0  0  0  0  0  0  0  0  0  0  0  0  0  0  0  0  0  0  0  0  0  0  0  0  0  0  0  0\n",
            "  0  0  0  0  0  0  0  0  0  0  0  0  0  0  0  0  0  0  0  0  0  0  0  0  0  0  0  0\n"
          ]
        }
      ],
      "source": [
        "x= xr[3000]\n",
        "#%%\n",
        "for i in range(28):\n",
        "    for j in range(28):\n",
        "        z= x[i,j]\n",
        "        print(f'{z:3d}', end='')\n",
        "    print()"
      ]
    },
    {
      "cell_type": "code",
      "execution_count": null,
      "id": "0c746e80-cd34-424c-b622-010923ce355a",
      "metadata": {
        "id": "0c746e80-cd34-424c-b622-010923ce355a",
        "outputId": "0d954d1f-57da-4a95-f282-17bc2cdd7db9",
        "colab": {
          "base_uri": "https://localhost:8080/",
          "height": 282
        }
      },
      "outputs": [
        {
          "output_type": "execute_result",
          "data": {
            "text/plain": [
              "<matplotlib.image.AxesImage at 0x7f8185ad6b10>"
            ]
          },
          "metadata": {},
          "execution_count": 55
        },
        {
          "output_type": "display_data",
          "data": {
            "text/plain": [
              "<Figure size 432x288 with 1 Axes>"
            ],
            "image/png": "[encoded data removed]"
          },
          "metadata": {
            "needs_background": "light"
          }
        }
      ],
      "source": [
        "import matplotlib.pyplot as pl\n",
        "pl.imshow(x)"
      ]
    },
    {
      "cell_type": "code",
      "execution_count": null,
      "id": "063eac0e-84ee-4c81-8b81-df98d98ce392",
      "metadata": {
        "id": "063eac0e-84ee-4c81-8b81-df98d98ce392"
      },
      "outputs": [],
      "source": []
    },
    {
      "cell_type": "code",
      "execution_count": null,
      "id": "7ad94416-53ca-4b00-96b6-936e8fe43f25",
      "metadata": {
        "id": "7ad94416-53ca-4b00-96b6-936e8fe43f25"
      },
      "outputs": [],
      "source": [
        "xr1= xr.reshape(-1, 28*28) \n",
        "xt1= xt.reshape(-1, 28*28) "
      ]
    },
    {
      "cell_type": "code",
      "execution_count": null,
      "id": "5c3bc9ff-8e3c-47ce-9061-ebf2f147c207",
      "metadata": {
        "id": "5c3bc9ff-8e3c-47ce-9061-ebf2f147c207"
      },
      "outputs": [],
      "source": [
        "aModel= keras.Sequential([\n",
        "    keras.Input(28*28),\n",
        "    keras.layers.Dense(100),    \n",
        "    keras.layers.Dense(10)   \n",
        "    ])\n",
        "\n",
        "aModel.compile(\n",
        "    loss=     'sparse_categorical_crossentropy',\n",
        "    metrics= ['accuracy']\n",
        "    )"
      ]
    },
    {
      "cell_type": "code",
      "execution_count": null,
      "id": "089bbcac-dbda-45ce-bd12-6b5608bb8904",
      "metadata": {
        "id": "089bbcac-dbda-45ce-bd12-6b5608bb8904",
        "outputId": "47b1d6fe-44d9-4270-9449-075a42dd9bb5",
        "colab": {
          "base_uri": "https://localhost:8080/",
          "height": 533
        }
      },
      "outputs": [
        {
          "output_type": "stream",
          "name": "stdout",
          "text": [
            "Model: \"sequential\"\n",
            "_________________________________________________________________\n",
            " Layer (type)                Output Shape              Param #   \n",
            "=================================================================\n",
            " dense (Dense)               (None, 100)               78500     \n",
            "                                                                 \n",
            " dense_1 (Dense)             (None, 10)                1010      \n",
            "                                                                 \n",
            "=================================================================\n",
            "Total params: 79,510\n",
            "Trainable params: 79,510\n",
            "Non-trainable params: 0\n",
            "_________________________________________________________________\n"
          ]
        },
        {
          "output_type": "execute_result",
          "data": {
            "image/png": "[encoded data removed]",
            "text/plain": [
              "<IPython.core.display.Image object>"
            ]
          },
          "metadata": {},
          "execution_count": 31
        }
      ],
      "source": [
        "aModel.summary()\n",
        "\n",
        "keras.utils.plot_model(aModel, \n",
        "    show_shapes= True, \n",
        "    show_layer_activations= True)"
      ]
    },
    {
      "cell_type": "code",
      "execution_count": null,
      "id": "ecfe3ee7-4dfd-4a9c-ad70-42c1916ee5ba",
      "metadata": {
        "id": "ecfe3ee7-4dfd-4a9c-ad70-42c1916ee5ba",
        "outputId": "c0cd348f-f44c-45ad-a659-e99ff6a7eff3",
        "colab": {
          "base_uri": "https://localhost:8080/"
        }
      },
      "outputs": [
        {
          "output_type": "stream",
          "name": "stdout",
          "text": [
            "Epoch 1/10\n",
            "600/600 [==============================] - 3s 5ms/step - loss: 3.3334 - accuracy: 0.1425\n",
            "Epoch 2/10\n",
            "600/600 [==============================] - 3s 5ms/step - loss: 2.5529 - accuracy: 0.1763\n",
            "Epoch 3/10\n",
            "600/600 [==============================] - 3s 4ms/step - loss: 2.2218 - accuracy: 0.1773\n",
            "Epoch 4/10\n",
            "600/600 [==============================] - 4s 6ms/step - loss: 2.2461 - accuracy: 0.1612\n",
            "Epoch 5/10\n",
            "600/600 [==============================] - 3s 4ms/step - loss: 2.2130 - accuracy: 0.1643\n",
            "Epoch 6/10\n",
            "600/600 [==============================] - 3s 4ms/step - loss: 2.2087 - accuracy: 0.1882\n",
            "Epoch 7/10\n",
            "600/600 [==============================] - 3s 4ms/step - loss: 2.1508 - accuracy: 0.2015\n",
            "Epoch 8/10\n",
            "600/600 [==============================] - 3s 4ms/step - loss: 2.1982 - accuracy: 0.2067\n",
            "Epoch 9/10\n",
            "600/600 [==============================] - 3s 4ms/step - loss: 2.1390 - accuracy: 0.2195\n",
            "Epoch 10/10\n",
            "600/600 [==============================] - 3s 4ms/step - loss: 2.1995 - accuracy: 0.2378\n",
            "313/313 [==============================] - 1s 2ms/step - loss: 2.1071 - accuracy: 0.2430\n"
          ]
        },
        {
          "output_type": "execute_result",
          "data": {
            "text/plain": [
              "[2.1070995330810547, 0.24300000071525574]"
            ]
          },
          "metadata": {},
          "execution_count": 32
        }
      ],
      "source": [
        "aModel.fit(xr1, yr, \n",
        "           epochs= 10, \n",
        "           batch_size= 100)\n",
        "\n",
        "aModel.evaluate(xt1, yt)"
      ]
    },
    {
      "cell_type": "code",
      "execution_count": null,
      "id": "660230a5-6afe-45c7-b698-7c7d9054e4c5",
      "metadata": {
        "id": "660230a5-6afe-45c7-b698-7c7d9054e4c5",
        "outputId": "5a22fff8-0742-432a-f266-79fbf4c11d8a",
        "colab": {
          "base_uri": "https://localhost:8080/"
        }
      },
      "outputs": [
        {
          "output_type": "stream",
          "name": "stdout",
          "text": [
            "Epoch 1/10\n",
            "600/600 [==============================] - 3s 4ms/step - loss: 2.3354 - accuracy: 0.2979\n",
            "Epoch 2/10\n",
            "600/600 [==============================] - 3s 4ms/step - loss: 2.1537 - accuracy: 0.3142\n",
            "Epoch 3/10\n",
            "600/600 [==============================] - 3s 4ms/step - loss: 2.0953 - accuracy: 0.3410\n",
            "Epoch 4/10\n",
            "600/600 [==============================] - 3s 4ms/step - loss: 2.0258 - accuracy: 0.3760\n",
            "Epoch 5/10\n",
            "600/600 [==============================] - 3s 4ms/step - loss: 2.0429 - accuracy: 0.3862\n",
            "Epoch 6/10\n",
            "600/600 [==============================] - 3s 4ms/step - loss: 2.0817 - accuracy: 0.4039\n",
            "Epoch 7/10\n",
            "600/600 [==============================] - 3s 4ms/step - loss: 2.0090 - accuracy: 0.4272\n",
            "Epoch 8/10\n",
            "600/600 [==============================] - 2s 4ms/step - loss: 2.0648 - accuracy: 0.4247\n",
            "Epoch 9/10\n",
            "600/600 [==============================] - 3s 4ms/step - loss: 1.9894 - accuracy: 0.4475\n",
            "Epoch 10/10\n",
            "600/600 [==============================] - 3s 5ms/step - loss: 2.1082 - accuracy: 0.4882\n",
            "313/313 [==============================] - 1s 3ms/step - loss: 2.0478 - accuracy: 0.4948\n"
          ]
        },
        {
          "output_type": "execute_result",
          "data": {
            "text/plain": [
              "[2.0478498935699463, 0.49480000138282776]"
            ]
          },
          "metadata": {},
          "execution_count": 33
        }
      ],
      "source": [
        "\n",
        "aModel= keras.Sequential([\n",
        "    keras.Input(28*28),\n",
        "    keras.layers.Dense(100, activation= 'sigmoid'),    \n",
        "    keras.layers.Dense(10)   \n",
        "    ])\n",
        "\n",
        "aModel.compile(\n",
        "    loss=     'sparse_categorical_crossentropy',\n",
        "    metrics= ['accuracy']\n",
        "    )\n",
        "\n",
        "aModel.fit(xr1, yr, \n",
        "           epochs= 10, \n",
        "           batch_size= 100)\n",
        "\n",
        "aModel.evaluate(xt1, yt)"
      ]
    },
    {
      "cell_type": "code",
      "execution_count": null,
      "id": "97b0333d-21ee-4392-911d-24d462fe67fd",
      "metadata": {
        "id": "97b0333d-21ee-4392-911d-24d462fe67fd",
        "outputId": "3fb29573-80ea-4b2d-a255-c16bc3edbd5e",
        "colab": {
          "base_uri": "https://localhost:8080/"
        }
      },
      "outputs": [
        {
          "output_type": "stream",
          "name": "stdout",
          "text": [
            "Epoch 1/10\n",
            "600/600 [==============================] - 3s 4ms/step - loss: 0.5546 - accuracy: 0.8484\n",
            "Epoch 2/10\n",
            "600/600 [==============================] - 2s 4ms/step - loss: 0.2905 - accuracy: 0.9128\n",
            "Epoch 3/10\n",
            "600/600 [==============================] - 2s 4ms/step - loss: 0.2515 - accuracy: 0.9238\n",
            "Epoch 4/10\n",
            "600/600 [==============================] - 2s 4ms/step - loss: 0.2302 - accuracy: 0.9307\n",
            "Epoch 5/10\n",
            "600/600 [==============================] - 2s 4ms/step - loss: 0.2151 - accuracy: 0.9353\n",
            "Epoch 6/10\n",
            "600/600 [==============================] - 2s 4ms/step - loss: 0.2048 - accuracy: 0.9385\n",
            "Epoch 7/10\n",
            "600/600 [==============================] - 2s 4ms/step - loss: 0.1951 - accuracy: 0.9419\n",
            "Epoch 8/10\n",
            "600/600 [==============================] - 2s 4ms/step - loss: 0.1867 - accuracy: 0.9433\n",
            "Epoch 9/10\n",
            "600/600 [==============================] - 2s 4ms/step - loss: 0.1817 - accuracy: 0.9450\n",
            "Epoch 10/10\n",
            "600/600 [==============================] - 3s 4ms/step - loss: 0.1739 - accuracy: 0.9478\n",
            "313/313 [==============================] - 1s 2ms/step - loss: 0.1713 - accuracy: 0.9473\n"
          ]
        },
        {
          "output_type": "execute_result",
          "data": {
            "text/plain": [
              "[0.17126871645450592, 0.9473000168800354]"
            ]
          },
          "metadata": {},
          "execution_count": 34
        }
      ],
      "source": [
        "aModel= keras.Sequential([\n",
        "    keras.Input(28*28),\n",
        "    keras.layers.Dense(100, activation= 'sigmoid'),    \n",
        "    keras.layers.Dense(10,  activation= 'sigmoid')\n",
        "    ])\n",
        "\n",
        "aModel.compile(\n",
        "    loss=     'sparse_categorical_crossentropy',\n",
        "    metrics= ['accuracy']\n",
        "    )\n",
        "\n",
        "aModel.fit(xr1, yr, \n",
        "           epochs= 10, \n",
        "           batch_size= 100)\n",
        "\n",
        "aModel.evaluate(xt1, yt)"
      ]
    },
    {
      "cell_type": "code",
      "execution_count": null,
      "id": "8a9719cd-be71-4769-be2a-90e07ce7d4ea",
      "metadata": {
        "id": "8a9719cd-be71-4769-be2a-90e07ce7d4ea",
        "outputId": "33229669-d117-4ec2-a80c-92c7fcd4787c",
        "colab": {
          "base_uri": "https://localhost:8080/"
        }
      },
      "outputs": [
        {
          "output_type": "stream",
          "name": "stdout",
          "text": [
            "Epoch 1/10\n",
            "600/600 [==============================] - 3s 4ms/step - loss: 3.6324 - accuracy: 0.8593\n",
            "Epoch 2/10\n",
            "600/600 [==============================] - 2s 4ms/step - loss: 0.5090 - accuracy: 0.9165\n",
            "Epoch 3/10\n",
            "600/600 [==============================] - 2s 4ms/step - loss: 0.3600 - accuracy: 0.9385\n",
            "Epoch 4/10\n",
            "600/600 [==============================] - 2s 4ms/step - loss: 0.2932 - accuracy: 0.9498\n",
            "Epoch 5/10\n",
            "600/600 [==============================] - 3s 4ms/step - loss: 0.2557 - accuracy: 0.9552\n",
            "Epoch 6/10\n",
            "600/600 [==============================] - 3s 4ms/step - loss: 0.2328 - accuracy: 0.9619\n",
            "Epoch 7/10\n",
            "600/600 [==============================] - 2s 4ms/step - loss: 0.2032 - accuracy: 0.9646\n",
            "Epoch 8/10\n",
            "600/600 [==============================] - 3s 4ms/step - loss: 0.1931 - accuracy: 0.9671\n",
            "Epoch 9/10\n",
            "600/600 [==============================] - 2s 4ms/step - loss: 0.1709 - accuracy: 0.9697\n",
            "Epoch 10/10\n",
            "600/600 [==============================] - 3s 4ms/step - loss: 0.1593 - accuracy: 0.9722\n",
            "313/313 [==============================] - 1s 2ms/step - loss: 0.4576 - accuracy: 0.9603\n"
          ]
        },
        {
          "output_type": "execute_result",
          "data": {
            "text/plain": [
              "[0.4576241075992584, 0.9603000283241272]"
            ]
          },
          "metadata": {},
          "execution_count": 35
        }
      ],
      "source": [
        "aModel= keras.Sequential([\n",
        "    keras.Input(28*28),\n",
        "    keras.layers.Dense(100, activation= 'relu'),    \n",
        "    keras.layers.Dense(10,  activation= 'sigmoid')\n",
        "    ])\n",
        "\n",
        "aModel.compile(\n",
        "    loss=     'sparse_categorical_crossentropy',\n",
        "    metrics= ['accuracy']\n",
        "    )\n",
        "\n",
        "aModel.fit(xr1, yr, \n",
        "           epochs= 10, \n",
        "           batch_size= 100)\n",
        "\n",
        "aModel.evaluate(xt1, yt)"
      ]
    },
    {
      "cell_type": "code",
      "execution_count": null,
      "id": "34818214-d878-4d87-a0f4-f03f6e34f653",
      "metadata": {
        "id": "34818214-d878-4d87-a0f4-f03f6e34f653",
        "outputId": "e9392965-9028-459a-bd24-4a8b01a09a41",
        "colab": {
          "base_uri": "https://localhost:8080/"
        }
      },
      "outputs": [
        {
          "output_type": "stream",
          "name": "stdout",
          "text": [
            "Epoch 1/10\n",
            "600/600 [==============================] - 3s 4ms/step - loss: 3.0919 - accuracy: 0.8463\n",
            "Epoch 2/10\n",
            "600/600 [==============================] - 3s 4ms/step - loss: 0.4839 - accuracy: 0.9179\n",
            "Epoch 3/10\n",
            "600/600 [==============================] - 3s 4ms/step - loss: 0.3615 - accuracy: 0.9388\n",
            "Epoch 4/10\n",
            "600/600 [==============================] - 3s 4ms/step - loss: 0.2896 - accuracy: 0.9486\n",
            "Epoch 5/10\n",
            "600/600 [==============================] - 2s 4ms/step - loss: 0.2515 - accuracy: 0.9553\n",
            "Epoch 6/10\n",
            "600/600 [==============================] - 2s 4ms/step - loss: 0.2351 - accuracy: 0.9599\n",
            "Epoch 7/10\n",
            "600/600 [==============================] - 3s 4ms/step - loss: 0.2142 - accuracy: 0.9629\n",
            "Epoch 8/10\n",
            "600/600 [==============================] - 3s 4ms/step - loss: 0.2041 - accuracy: 0.9663\n",
            "Epoch 9/10\n",
            "600/600 [==============================] - 2s 4ms/step - loss: 0.1852 - accuracy: 0.9677\n",
            "Epoch 10/10\n",
            "600/600 [==============================] - 2s 4ms/step - loss: 0.1699 - accuracy: 0.9698\n",
            "313/313 [==============================] - 1s 2ms/step - loss: 0.4179 - accuracy: 0.9583\n"
          ]
        },
        {
          "output_type": "execute_result",
          "data": {
            "text/plain": [
              "[0.41787153482437134, 0.958299994468689]"
            ]
          },
          "metadata": {},
          "execution_count": 36
        }
      ],
      "source": [
        "aModel= keras.Sequential([\n",
        "    keras.Input(28*28),\n",
        "    keras.layers.Dense(100, activation= 'relu'),    \n",
        "    keras.layers.Dense(10,  activation= 'softmax')\n",
        "    ])\n",
        "\n",
        "aModel.compile(\n",
        "    loss=     'sparse_categorical_crossentropy',\n",
        "    metrics= ['accuracy']\n",
        "    )\n",
        "\n",
        "aModel.fit(xr1, yr, \n",
        "           epochs= 10, \n",
        "           batch_size= 100)\n",
        "\n",
        "aModel.evaluate(xt1, yt)"
      ]
    },
    {
      "cell_type": "code",
      "execution_count": null,
      "id": "74f3c7bf-a031-4fd7-8456-93373a73bb68",
      "metadata": {
        "id": "74f3c7bf-a031-4fd7-8456-93373a73bb68",
        "outputId": "9196990b-8032-4908-e93d-232dea716cc0",
        "colab": {
          "base_uri": "https://localhost:8080/"
        }
      },
      "outputs": [
        {
          "output_type": "stream",
          "name": "stdout",
          "text": [
            "Epoch 1/10\n",
            "600/600 [==============================] - 3s 4ms/step - loss: 0.3327 - accuracy: 0.9080\n",
            "Epoch 2/10\n",
            "600/600 [==============================] - 3s 4ms/step - loss: 0.1633 - accuracy: 0.9538\n",
            "Epoch 3/10\n",
            "600/600 [==============================] - 3s 4ms/step - loss: 0.1190 - accuracy: 0.9658\n",
            "Epoch 4/10\n",
            "600/600 [==============================] - 2s 4ms/step - loss: 0.0945 - accuracy: 0.9724\n",
            "Epoch 5/10\n",
            "600/600 [==============================] - 3s 4ms/step - loss: 0.0783 - accuracy: 0.9769\n",
            "Epoch 6/10\n",
            "600/600 [==============================] - 3s 4ms/step - loss: 0.0666 - accuracy: 0.9803\n",
            "Epoch 7/10\n",
            "600/600 [==============================] - 2s 4ms/step - loss: 0.0576 - accuracy: 0.9831\n",
            "Epoch 8/10\n",
            "600/600 [==============================] - 2s 4ms/step - loss: 0.0502 - accuracy: 0.9853\n",
            "Epoch 9/10\n",
            "600/600 [==============================] - 2s 4ms/step - loss: 0.0438 - accuracy: 0.9869\n",
            "Epoch 10/10\n",
            "600/600 [==============================] - 2s 4ms/step - loss: 0.0384 - accuracy: 0.9889\n",
            "313/313 [==============================] - 1s 2ms/step - loss: 0.0790 - accuracy: 0.9771\n"
          ]
        },
        {
          "output_type": "execute_result",
          "data": {
            "text/plain": [
              "[0.07896354049444199, 0.9771000146865845]"
            ]
          },
          "metadata": {},
          "execution_count": 37
        }
      ],
      "source": [
        "xr1= xr.reshape(-1,28*28) /255\n",
        "xt1= xt.reshape(-1,28*28) /255\n",
        "\n",
        "\n",
        "aModel= keras.Sequential([\n",
        "    keras.Input(28*28),\n",
        "    keras.layers.Dense(100, activation= 'relu'),    \n",
        "    keras.layers.Dense(10,  activation= 'softmax')\n",
        "    ])\n",
        "\n",
        "aModel.compile(\n",
        "    loss=     'sparse_categorical_crossentropy',\n",
        "    metrics= ['accuracy']\n",
        "    )\n",
        "\n",
        "aModel.fit(xr1, yr, \n",
        "           epochs= 10, \n",
        "           batch_size= 100)\n",
        "\n",
        "aModel.evaluate(xt1, yt)"
      ]
    },
    {
      "cell_type": "code",
      "execution_count": null,
      "id": "22b7e84f-a229-4e3b-bdd2-a7c7361b126d",
      "metadata": {
        "id": "22b7e84f-a229-4e3b-bdd2-a7c7361b126d",
        "outputId": "b91f3e12-4ea2-4a4c-8f3b-dd9520c407b5",
        "colab": {
          "base_uri": "https://localhost:8080/"
        }
      },
      "outputs": [
        {
          "output_type": "stream",
          "name": "stdout",
          "text": [
            "Epoch 1/10\n",
            "600/600 [==============================] - 4s 6ms/step - loss: 0.2904 - accuracy: 0.9193\n",
            "Epoch 2/10\n",
            "600/600 [==============================] - 3s 5ms/step - loss: 0.1280 - accuracy: 0.9629\n",
            "Epoch 3/10\n",
            "600/600 [==============================] - 3s 5ms/step - loss: 0.0893 - accuracy: 0.9732\n",
            "Epoch 4/10\n",
            "600/600 [==============================] - 3s 5ms/step - loss: 0.0674 - accuracy: 0.9800\n",
            "Epoch 5/10\n",
            "600/600 [==============================] - 3s 5ms/step - loss: 0.0539 - accuracy: 0.9843\n",
            "Epoch 6/10\n",
            "600/600 [==============================] - 3s 5ms/step - loss: 0.0445 - accuracy: 0.9866\n",
            "Epoch 7/10\n",
            "600/600 [==============================] - 3s 6ms/step - loss: 0.0376 - accuracy: 0.9893\n",
            "Epoch 8/10\n",
            "600/600 [==============================] - 3s 5ms/step - loss: 0.0302 - accuracy: 0.9913\n",
            "Epoch 9/10\n",
            "600/600 [==============================] - 3s 5ms/step - loss: 0.0251 - accuracy: 0.9930\n",
            "Epoch 10/10\n",
            "600/600 [==============================] - 3s 5ms/step - loss: 0.0208 - accuracy: 0.9941\n",
            "313/313 [==============================] - 1s 2ms/step - loss: 0.0717 - accuracy: 0.9796\n"
          ]
        },
        {
          "output_type": "execute_result",
          "data": {
            "text/plain": [
              "[0.07172165811061859, 0.9796000123023987]"
            ]
          },
          "metadata": {},
          "execution_count": 38
        }
      ],
      "source": [
        "aModel= keras.Sequential([\n",
        "    keras.Input(28*28),\n",
        "    keras.layers.Dense(200, activation= 'relu'),    \n",
        "    keras.layers.Dense(10,  activation= 'softmax')\n",
        "    ])\n",
        "\n",
        "aModel.compile(\n",
        "    loss=     'sparse_categorical_crossentropy',\n",
        "    metrics= ['accuracy']\n",
        "    )\n",
        "\n",
        "aModel.fit(xr1, yr, \n",
        "           epochs= 10, \n",
        "           batch_size= 100)\n",
        "\n",
        "aModel.evaluate(xt1, yt)"
      ]
    },
    {
      "cell_type": "code",
      "execution_count": null,
      "id": "5188adb1-dbc2-42af-97ca-297d0c33ae5f",
      "metadata": {
        "id": "5188adb1-dbc2-42af-97ca-297d0c33ae5f",
        "outputId": "f2af00fd-af95-457c-975d-cc753e756d2a",
        "colab": {
          "base_uri": "https://localhost:8080/"
        }
      },
      "outputs": [
        {
          "output_type": "stream",
          "name": "stdout",
          "text": [
            "Epoch 1/10\n",
            "600/600 [==============================] - 3s 4ms/step - loss: 0.3054 - accuracy: 0.9126\n",
            "Epoch 2/10\n",
            "600/600 [==============================] - 3s 5ms/step - loss: 0.1308 - accuracy: 0.9612\n",
            "Epoch 3/10\n",
            "600/600 [==============================] - 3s 5ms/step - loss: 0.0924 - accuracy: 0.9724\n",
            "Epoch 4/10\n",
            "600/600 [==============================] - 3s 4ms/step - loss: 0.0727 - accuracy: 0.9776\n",
            "Epoch 5/10\n",
            "600/600 [==============================] - 3s 4ms/step - loss: 0.0581 - accuracy: 0.9817\n",
            "Epoch 6/10\n",
            "600/600 [==============================] - 3s 4ms/step - loss: 0.0481 - accuracy: 0.9851\n",
            "Epoch 7/10\n",
            "600/600 [==============================] - 3s 4ms/step - loss: 0.0408 - accuracy: 0.9876\n",
            "Epoch 8/10\n",
            "600/600 [==============================] - 3s 4ms/step - loss: 0.0348 - accuracy: 0.9893\n",
            "Epoch 9/10\n",
            "600/600 [==============================] - 3s 4ms/step - loss: 0.0298 - accuracy: 0.9908\n",
            "Epoch 10/10\n",
            "600/600 [==============================] - 3s 4ms/step - loss: 0.0255 - accuracy: 0.9921\n",
            "313/313 [==============================] - 1s 2ms/step - loss: 0.0996 - accuracy: 0.9760\n"
          ]
        },
        {
          "output_type": "execute_result",
          "data": {
            "text/plain": [
              "[0.09964791685342789, 0.9760000109672546]"
            ]
          },
          "metadata": {},
          "execution_count": 39
        }
      ],
      "source": [
        "aModel= keras.Sequential([\n",
        "    keras.Input(28*28),\n",
        "    keras.layers.Dense(100, activation= 'relu'), \n",
        "    keras.layers.Dense(100, activation= 'relu'), \n",
        "    keras.layers.Dense(10,  activation= 'softmax')\n",
        "    ])\n",
        "\n",
        "aModel.compile(\n",
        "    loss=     'sparse_categorical_crossentropy',\n",
        "    metrics= ['accuracy']\n",
        "    )\n",
        "\n",
        "aModel.fit(xr1, yr, \n",
        "           epochs= 10, \n",
        "           batch_size= 100)\n",
        "\n",
        "aModel.evaluate(xt1, yt)"
      ]
    },
    {
      "cell_type": "code",
      "execution_count": null,
      "id": "e86ac3ba-b71d-443e-9b83-219886549875",
      "metadata": {
        "id": "e86ac3ba-b71d-443e-9b83-219886549875",
        "outputId": "f857ccd1-d836-4a1b-f788-5e387c7481f2",
        "colab": {
          "base_uri": "https://localhost:8080/"
        }
      },
      "outputs": [
        {
          "output_type": "stream",
          "name": "stdout",
          "text": [
            "Epoch 1/10\n",
            "600/600 [==============================] - 3s 5ms/step - loss: 0.2922 - accuracy: 0.9154\n",
            "Epoch 2/10\n",
            "600/600 [==============================] - 3s 5ms/step - loss: 0.1267 - accuracy: 0.9617\n",
            "Epoch 3/10\n",
            "600/600 [==============================] - 3s 5ms/step - loss: 0.0862 - accuracy: 0.9742\n",
            "Epoch 4/10\n",
            "600/600 [==============================] - 3s 5ms/step - loss: 0.0648 - accuracy: 0.9801\n",
            "Epoch 5/10\n",
            "600/600 [==============================] - 3s 5ms/step - loss: 0.0514 - accuracy: 0.9844\n",
            "Epoch 6/10\n",
            "600/600 [==============================] - 3s 5ms/step - loss: 0.0412 - accuracy: 0.9870\n",
            "Epoch 7/10\n",
            "600/600 [==============================] - 3s 5ms/step - loss: 0.0340 - accuracy: 0.9894\n",
            "Epoch 8/10\n",
            "600/600 [==============================] - 3s 5ms/step - loss: 0.0275 - accuracy: 0.9912\n",
            "Epoch 9/10\n",
            "600/600 [==============================] - 3s 5ms/step - loss: 0.0235 - accuracy: 0.9927\n",
            "Epoch 10/10\n",
            "600/600 [==============================] - 3s 5ms/step - loss: 0.0190 - accuracy: 0.9941\n",
            "313/313 [==============================] - 1s 2ms/step - loss: 0.0932 - accuracy: 0.9781\n"
          ]
        },
        {
          "output_type": "execute_result",
          "data": {
            "text/plain": [
              "[0.0932227075099945, 0.9781000018119812]"
            ]
          },
          "metadata": {},
          "execution_count": 40
        }
      ],
      "source": [
        "aModel= keras.Sequential([\n",
        "    keras.Input(28*28),\n",
        "    keras.layers.Dense(150, activation= 'relu'), \n",
        "    keras.layers.Dense(50,  activation= 'relu'), \n",
        "    keras.layers.Dense(10,  activation= 'softmax')\n",
        "    ])\n",
        "\n",
        "aModel.compile(\n",
        "    loss=     'sparse_categorical_crossentropy',\n",
        "    metrics= ['accuracy']\n",
        "    )\n",
        "\n",
        "aModel.fit(xr1, yr, \n",
        "           epochs= 10, \n",
        "           batch_size= 100)\n",
        "\n",
        "aModel.evaluate(xt1, yt)"
      ]
    },
    {
      "cell_type": "code",
      "execution_count": null,
      "id": "c2b2e1b9-b82c-4600-9fc4-9b03e513ea82",
      "metadata": {
        "id": "c2b2e1b9-b82c-4600-9fc4-9b03e513ea82",
        "outputId": "b4a21f60-fbfe-415f-f823-dc465845e461",
        "colab": {
          "base_uri": "https://localhost:8080/",
          "height": 677
        }
      },
      "outputs": [
        {
          "output_type": "stream",
          "name": "stdout",
          "text": [
            "Model: \"sequential_8\"\n",
            "_________________________________________________________________\n",
            " Layer (type)                Output Shape              Param #   \n",
            "=================================================================\n",
            " dense_17 (Dense)            (None, 150)               117750    \n",
            "                                                                 \n",
            " dense_18 (Dense)            (None, 50)                7550      \n",
            "                                                                 \n",
            " dense_19 (Dense)            (None, 10)                510       \n",
            "                                                                 \n",
            "=================================================================\n",
            "Total params: 125,810\n",
            "Trainable params: 125,810\n",
            "Non-trainable params: 0\n",
            "_________________________________________________________________\n"
          ]
        },
        {
          "output_type": "execute_result",
          "data": {
            "image/png": "[encoded data removed]",
            "text/plain": [
              "<IPython.core.display.Image object>"
            ]
          },
          "metadata": {},
          "execution_count": 41
        }
      ],
      "source": [
        "aModel.summary()\n",
        "\n",
        "keras.utils.plot_model(aModel, \n",
        "    show_shapes= True, \n",
        "    show_layer_activations= True)"
      ]
    },
    {
      "cell_type": "markdown",
      "id": "8b4ee66f-1d7c-4cf2-bc53-6107399974b9",
      "metadata": {
        "id": "8b4ee66f-1d7c-4cf2-bc53-6107399974b9"
      },
      "source": [
        "# 想想看，你能做那些改進來提升正確率 (accuracy) ？\n"
      ]
    },
    {
      "cell_type": "code",
      "execution_count": null,
      "id": "41d802a2-1411-4e0f-b9e3-8aaba68b5323",
      "metadata": {
        "id": "41d802a2-1411-4e0f-b9e3-8aaba68b5323",
        "outputId": "cda63a2e-e28b-473e-a5f3-7c89acfa3563",
        "colab": {
          "base_uri": "https://localhost:8080/"
        }
      },
      "outputs": [
        {
          "output_type": "stream",
          "name": "stdout",
          "text": [
            "Epoch 1/10\n",
            "600/600 [==============================] - 5s 7ms/step - loss: 0.2488 - accuracy: 0.9262\n",
            "Epoch 2/10\n",
            "600/600 [==============================] - 4s 7ms/step - loss: 0.0982 - accuracy: 0.9700\n",
            "Epoch 3/10\n",
            "600/600 [==============================] - 5s 9ms/step - loss: 0.0652 - accuracy: 0.9799\n",
            "Epoch 4/10\n",
            "600/600 [==============================] - 4s 7ms/step - loss: 0.0493 - accuracy: 0.9848\n",
            "Epoch 5/10\n",
            "600/600 [==============================] - 4s 7ms/step - loss: 0.0370 - accuracy: 0.9885\n",
            "Epoch 6/10\n",
            "600/600 [==============================] - 4s 7ms/step - loss: 0.0284 - accuracy: 0.9909\n",
            "Epoch 7/10\n",
            "600/600 [==============================] - 4s 7ms/step - loss: 0.0222 - accuracy: 0.9930\n",
            "Epoch 8/10\n",
            "600/600 [==============================] - 4s 7ms/step - loss: 0.0189 - accuracy: 0.9941\n",
            "Epoch 9/10\n",
            "600/600 [==============================] - 4s 7ms/step - loss: 0.0147 - accuracy: 0.9954\n",
            "Epoch 10/10\n",
            "600/600 [==============================] - 4s 7ms/step - loss: 0.0117 - accuracy: 0.9964\n",
            "313/313 [==============================] - 1s 2ms/step - loss: 0.0903 - accuracy: 0.9798\n"
          ]
        },
        {
          "output_type": "execute_result",
          "data": {
            "text/plain": [
              "[0.09030432999134064, 0.9797999858856201]"
            ]
          },
          "metadata": {},
          "execution_count": 61
        }
      ],
      "source": [
        "aModel= keras.Sequential([\n",
        "    keras.Input(28*28),#784\n",
        "    keras.layers.Dense(300, activation= 'relu'), \n",
        "    keras.layers.Dense(100,  activation= 'relu'), \n",
        "    keras.layers.Dense(10,  activation= 'softmax')\n",
        "    ])\n",
        "\n",
        "aModel.compile(\n",
        "    loss=     'sparse_categorical_crossentropy',\n",
        "    metrics= ['accuracy']\n",
        "    )\n",
        "\n",
        "aModel.fit(xr1, yr, \n",
        "           epochs= 10, \n",
        "           batch_size= 100)\n",
        "\n",
        "aModel.evaluate(xt1, yt)"
      ]
    },
    {
      "cell_type": "code",
      "execution_count": null,
      "id": "94d687ab-36e6-4c47-b181-0ced7cc1fabc",
      "metadata": {
        "id": "94d687ab-36e6-4c47-b181-0ced7cc1fabc",
        "outputId": "cec60d0d-1ab1-48c4-b2b7-1bfe065e55d9",
        "colab": {
          "base_uri": "https://localhost:8080/"
        }
      },
      "outputs": [
        {
          "output_type": "stream",
          "name": "stdout",
          "text": [
            "Epoch 1/10\n",
            "600/600 [==============================] - 6s 9ms/step - loss: 0.2515 - accuracy: 0.9237\n",
            "Epoch 2/10\n",
            "600/600 [==============================] - 5s 9ms/step - loss: 0.0954 - accuracy: 0.9705\n",
            "Epoch 3/10\n",
            "600/600 [==============================] - 5s 9ms/step - loss: 0.0639 - accuracy: 0.9801\n",
            "Epoch 4/10\n",
            "600/600 [==============================] - 5s 9ms/step - loss: 0.0485 - accuracy: 0.9850\n",
            "Epoch 5/10\n",
            "600/600 [==============================] - 5s 9ms/step - loss: 0.0359 - accuracy: 0.9889\n",
            "Epoch 6/10\n",
            "600/600 [==============================] - 5s 9ms/step - loss: 0.0311 - accuracy: 0.9908\n",
            "Epoch 7/10\n",
            "600/600 [==============================] - 5s 9ms/step - loss: 0.0237 - accuracy: 0.9921\n",
            "Epoch 8/10\n",
            "600/600 [==============================] - 5s 9ms/step - loss: 0.0211 - accuracy: 0.9937\n",
            "Epoch 9/10\n",
            "600/600 [==============================] - 5s 9ms/step - loss: 0.0173 - accuracy: 0.9947\n",
            "Epoch 10/10\n",
            "600/600 [==============================] - 5s 9ms/step - loss: 0.0138 - accuracy: 0.9958\n",
            "313/313 [==============================] - 1s 2ms/step - loss: 0.1022 - accuracy: 0.9815\n"
          ]
        },
        {
          "output_type": "execute_result",
          "data": {
            "text/plain": [
              "[0.10215156525373459, 0.9815000295639038]"
            ]
          },
          "metadata": {},
          "execution_count": 79
        }
      ],
      "source": [
        "aModel= keras.Sequential([\n",
        "    keras.Input(28*28),#784\n",
        "    keras.layers.Dense(350,  activation= 'relu'),\n",
        "    keras.layers.Dense(150,  activation= 'relu'), \n",
        "    keras.layers.Dense(50,  activation= 'relu'),\n",
        "    keras.layers.Dense(10,  activation= 'softmax')\n",
        "    ])\n",
        "\n",
        "aModel.compile(\n",
        "    loss=     'sparse_categorical_crossentropy',\n",
        "    metrics= ['accuracy']\n",
        "    )\n",
        "\n",
        "aModel.fit(xr1, yr, \n",
        "           epochs= 10, \n",
        "           batch_size= 100)\n",
        "\n",
        "aModel.evaluate(xt1, yt)"
      ]
    },
    {
      "cell_type": "code",
      "execution_count": null,
      "id": "8b26b3a7-bbf2-45b2-966c-328008118f64",
      "metadata": {
        "id": "8b26b3a7-bbf2-45b2-966c-328008118f64",
        "outputId": "806ebf92-b28a-4fc5-ba00-9867262108ba",
        "colab": {
          "base_uri": "https://localhost:8080/"
        }
      },
      "outputs": [
        {
          "output_type": "stream",
          "name": "stdout",
          "text": [
            "Epoch 1/10\n",
            "1200/1200 [==============================] - 9s 7ms/step - loss: 0.2242 - accuracy: 0.9317\n",
            "Epoch 2/10\n",
            "1200/1200 [==============================] - 9s 7ms/step - loss: 0.0953 - accuracy: 0.9720\n",
            "Epoch 3/10\n",
            "1200/1200 [==============================] - 9s 7ms/step - loss: 0.0695 - accuracy: 0.9801\n",
            "Epoch 4/10\n",
            "1200/1200 [==============================] - 8s 7ms/step - loss: 0.0557 - accuracy: 0.9841\n",
            "Epoch 5/10\n",
            "1200/1200 [==============================] - 9s 7ms/step - loss: 0.0442 - accuracy: 0.9874\n",
            "Epoch 6/10\n",
            "1200/1200 [==============================] - 9s 8ms/step - loss: 0.0366 - accuracy: 0.9897\n",
            "Epoch 7/10\n",
            "1200/1200 [==============================] - 9s 8ms/step - loss: 0.0313 - accuracy: 0.9916\n",
            "Epoch 8/10\n",
            "1200/1200 [==============================] - 8s 7ms/step - loss: 0.0280 - accuracy: 0.9924\n",
            "Epoch 9/10\n",
            "1200/1200 [==============================] - 9s 7ms/step - loss: 0.0258 - accuracy: 0.9929\n",
            "Epoch 10/10\n",
            "1200/1200 [==============================] - 10s 8ms/step - loss: 0.0230 - accuracy: 0.9941\n",
            "313/313 [==============================] - 1s 2ms/step - loss: 0.1150 - accuracy: 0.9823\n"
          ]
        },
        {
          "output_type": "execute_result",
          "data": {
            "text/plain": [
              "[0.11503895372152328, 0.9822999835014343]"
            ]
          },
          "metadata": {},
          "execution_count": 81
        }
      ],
      "source": [
        "aModel= keras.Sequential([\n",
        "    keras.Input(28*28),#784\n",
        "    keras.layers.Dense(350,  activation= 'relu'),\n",
        "    keras.layers.Dense(150,  activation= 'relu'), \n",
        "    keras.layers.Dense(50,  activation= 'relu'),\n",
        "    keras.layers.Dense(10,  activation= 'softmax')\n",
        "    ])\n",
        "\n",
        "aModel.compile(\n",
        "    loss=     'sparse_categorical_crossentropy',\n",
        "    metrics= ['accuracy']\n",
        "    )\n",
        "\n",
        "aModel.fit(xr1, yr, \n",
        "           epochs= 10, \n",
        "           batch_size= 50)\n",
        "\n",
        "aModel.evaluate(xt1, yt)"
      ]
    },
    {
      "cell_type": "code",
      "source": [
        "aModel= keras.Sequential([\n",
        "    keras.Input(28*28),#784\n",
        "    keras.layers.Dense(350,  activation= 'relu'),\n",
        "    keras.layers.Dense(150,  activation= 'relu'), \n",
        "    keras.layers.Dense(50,  activation= 'relu'),\n",
        "    keras.layers.Dense(10,  activation= 'softmax')\n",
        "    ])\n",
        "\n",
        "aModel.compile(\n",
        "    loss=     'sparse_categorical_crossentropy',\n",
        "    metrics= ['accuracy']\n",
        "    )\n",
        "\n",
        "aModel.fit(xr1, yr, \n",
        "           epochs= 30, \n",
        "           batch_size= 50)\n",
        "\n",
        "aModel.evaluate(xt1, yt)"
      ],
      "metadata": {
        "id": "jrerx0g8lrjg",
        "outputId": "abbad4e9-2f9e-4b79-a25d-d348f330f918",
        "colab": {
          "base_uri": "https://localhost:8080/"
        }
      },
      "id": "jrerx0g8lrjg",
      "execution_count": null,
      "outputs": [
        {
          "output_type": "stream",
          "name": "stdout",
          "text": [
            "Epoch 1/30\n",
            "1200/1200 [==============================] - 10s 8ms/step - loss: 0.2177 - accuracy: 0.9349\n",
            "Epoch 2/30\n",
            "1200/1200 [==============================] - 8s 7ms/step - loss: 0.0944 - accuracy: 0.9726\n",
            "Epoch 3/30\n",
            "1200/1200 [==============================] - 9s 7ms/step - loss: 0.0683 - accuracy: 0.9796\n",
            "Epoch 4/30\n",
            "1200/1200 [==============================] - 8s 7ms/step - loss: 0.0553 - accuracy: 0.9840\n",
            "Epoch 5/30\n",
            "1200/1200 [==============================] - 8s 7ms/step - loss: 0.0447 - accuracy: 0.9876\n",
            "Epoch 6/30\n",
            "1200/1200 [==============================] - 9s 7ms/step - loss: 0.0379 - accuracy: 0.9894\n",
            "Epoch 7/30\n",
            "1200/1200 [==============================] - 9s 7ms/step - loss: 0.0338 - accuracy: 0.9909\n",
            "Epoch 8/30\n",
            "1200/1200 [==============================] - 10s 8ms/step - loss: 0.0282 - accuracy: 0.9922\n",
            "Epoch 9/30\n",
            "1200/1200 [==============================] - 9s 7ms/step - loss: 0.0278 - accuracy: 0.9929\n",
            "Epoch 10/30\n",
            "1200/1200 [==============================] - 9s 7ms/step - loss: 0.0257 - accuracy: 0.9942\n",
            "Epoch 11/30\n",
            "1200/1200 [==============================] - 8s 7ms/step - loss: 0.0225 - accuracy: 0.9945\n",
            "Epoch 12/30\n",
            "1200/1200 [==============================] - 9s 7ms/step - loss: 0.0228 - accuracy: 0.9947\n",
            "Epoch 13/30\n",
            "1200/1200 [==============================] - 9s 7ms/step - loss: 0.0204 - accuracy: 0.9952\n",
            "Epoch 14/30\n",
            "1200/1200 [==============================] - 9s 7ms/step - loss: 0.0220 - accuracy: 0.9949\n",
            "Epoch 15/30\n",
            "1200/1200 [==============================] - 8s 7ms/step - loss: 0.0211 - accuracy: 0.9956\n",
            "Epoch 16/30\n",
            "1200/1200 [==============================] - 8s 7ms/step - loss: 0.0167 - accuracy: 0.9962\n",
            "Epoch 17/30\n",
            "1200/1200 [==============================] - 9s 7ms/step - loss: 0.0159 - accuracy: 0.9963\n",
            "Epoch 18/30\n",
            "1200/1200 [==============================] - 9s 7ms/step - loss: 0.0172 - accuracy: 0.9967\n",
            "Epoch 19/30\n",
            "1200/1200 [==============================] - 9s 7ms/step - loss: 0.0152 - accuracy: 0.9968\n",
            "Epoch 20/30\n",
            "1200/1200 [==============================] - 9s 7ms/step - loss: 0.0188 - accuracy: 0.9968\n",
            "Epoch 21/30\n",
            "1200/1200 [==============================] - 9s 7ms/step - loss: 0.0155 - accuracy: 0.9969\n",
            "Epoch 22/30\n",
            "1200/1200 [==============================] - 9s 7ms/step - loss: 0.0139 - accuracy: 0.9972\n",
            "Epoch 23/30\n",
            "1200/1200 [==============================] - 8s 7ms/step - loss: 0.0149 - accuracy: 0.9972\n",
            "Epoch 24/30\n",
            "1200/1200 [==============================] - 8s 7ms/step - loss: 0.0157 - accuracy: 0.9974\n",
            "Epoch 25/30\n",
            "1200/1200 [==============================] - 8s 7ms/step - loss: 0.0192 - accuracy: 0.9971\n",
            "Epoch 26/30\n",
            "1200/1200 [==============================] - 8s 6ms/step - loss: 0.0118 - accuracy: 0.9976\n",
            "Epoch 27/30\n",
            "1200/1200 [==============================] - 8s 6ms/step - loss: 0.0171 - accuracy: 0.9971\n",
            "Epoch 28/30\n",
            "1200/1200 [==============================] - 8s 6ms/step - loss: 0.0140 - accuracy: 0.9977\n",
            "Epoch 29/30\n",
            "1200/1200 [==============================] - 9s 7ms/step - loss: 0.0118 - accuracy: 0.9979\n",
            "Epoch 30/30\n",
            "1200/1200 [==============================] - 8s 6ms/step - loss: 0.0156 - accuracy: 0.9975\n",
            "313/313 [==============================] - 1s 2ms/step - loss: 0.3187 - accuracy: 0.9829\n"
          ]
        },
        {
          "output_type": "execute_result",
          "data": {
            "text/plain": [
              "[0.3186893165111542, 0.9829000234603882]"
            ]
          },
          "metadata": {},
          "execution_count": 85
        }
      ]
    },
    {
      "cell_type": "markdown",
      "source": [
        "嘗試增加了層數改成784-350-150-50-10，\n",
        "並修改縮小了batch_size成為成為50，\n",
        "最後更進一步增加了訓練週期，\n",
        "都分別獲得了正確率的進一步提升。\n"
      ],
      "metadata": {
        "id": "H2h80R2cojh7"
      },
      "id": "H2h80R2cojh7"
    }
  ],
  "metadata": {
    "kernelspec": {
      "display_name": "Python 3 (ipykernel)",
      "language": "python",
      "name": "python3"
    },
    "language_info": {
      "codemirror_mode": {
        "name": "ipython",
        "version": 3
      },
      "file_extension": ".py",
      "mimetype": "text/x-python",
      "name": "python",
      "nbconvert_exporter": "python",
      "pygments_lexer": "ipython3",
      "version": "3.9.12"
    },
    "colab": {
      "provenance": []
    }
  },
  "nbformat": 4,
  "nbformat_minor": 5
}
