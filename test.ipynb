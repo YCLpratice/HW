import numpy as np
import tensorflow as tf
import tensorflow.keras as keras
